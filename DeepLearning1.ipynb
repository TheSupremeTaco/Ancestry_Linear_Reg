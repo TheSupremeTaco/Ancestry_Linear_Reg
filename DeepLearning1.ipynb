{
  "nbformat": 4,
  "nbformat_minor": 0,
  "metadata": {
    "colab": {
      "provenance": [],
      "authorship_tag": "ABX9TyMA3I7BI3PxgM4zvlSm0EPd",
      "include_colab_link": true
    },
    "kernelspec": {
      "name": "python3",
      "display_name": "Python 3"
    },
    "language_info": {
      "name": "python"
    }
  },
  "cells": [
    {
      "cell_type": "markdown",
      "metadata": {
        "id": "view-in-github",
        "colab_type": "text"
      },
      "source": [
        "<a href=\"https://colab.research.google.com/github/TheSupremeTaco/Ancestry_Linear_Reg/blob/main/DeepLearning1.ipynb\" target=\"_parent\"><img src=\"https://colab.research.google.com/assets/colab-badge.svg\" alt=\"Open In Colab\"/></a>"
      ]
    },
    {
      "cell_type": "code",
      "execution_count": 2,
      "metadata": {
        "id": "27Cw51B_awi2",
        "colab": {
          "base_uri": "https://localhost:8080/",
          "height": 241
        },
        "outputId": "810085a2-4ff0-4c73-dd90-6faf1a7aea69"
      },
      "outputs": [
        {
          "output_type": "stream",
          "name": "stdout",
          "text": [
            "(100, 2)\n",
            "(100, 2)\n"
          ]
        },
        {
          "output_type": "execute_result",
          "data": {
            "text/plain": [
              "   weight  height\n",
              "0   0.132   0.757\n",
              "1   0.722   0.888\n",
              "2   0.095   0.804\n",
              "3   0.633   0.530\n",
              "4   0.472   0.701"
            ],
            "text/html": [
              "\n",
              "  <div id=\"df-0d30408f-9be7-47ea-bf8b-169d5f631c12\">\n",
              "    <div class=\"colab-df-container\">\n",
              "      <div>\n",
              "<style scoped>\n",
              "    .dataframe tbody tr th:only-of-type {\n",
              "        vertical-align: middle;\n",
              "    }\n",
              "\n",
              "    .dataframe tbody tr th {\n",
              "        vertical-align: top;\n",
              "    }\n",
              "\n",
              "    .dataframe thead th {\n",
              "        text-align: right;\n",
              "    }\n",
              "</style>\n",
              "<table border=\"1\" class=\"dataframe\">\n",
              "  <thead>\n",
              "    <tr style=\"text-align: right;\">\n",
              "      <th></th>\n",
              "      <th>weight</th>\n",
              "      <th>height</th>\n",
              "    </tr>\n",
              "  </thead>\n",
              "  <tbody>\n",
              "    <tr>\n",
              "      <th>0</th>\n",
              "      <td>0.132</td>\n",
              "      <td>0.757</td>\n",
              "    </tr>\n",
              "    <tr>\n",
              "      <th>1</th>\n",
              "      <td>0.722</td>\n",
              "      <td>0.888</td>\n",
              "    </tr>\n",
              "    <tr>\n",
              "      <th>2</th>\n",
              "      <td>0.095</td>\n",
              "      <td>0.804</td>\n",
              "    </tr>\n",
              "    <tr>\n",
              "      <th>3</th>\n",
              "      <td>0.633</td>\n",
              "      <td>0.530</td>\n",
              "    </tr>\n",
              "    <tr>\n",
              "      <th>4</th>\n",
              "      <td>0.472</td>\n",
              "      <td>0.701</td>\n",
              "    </tr>\n",
              "  </tbody>\n",
              "</table>\n",
              "</div>\n",
              "      <button class=\"colab-df-convert\" onclick=\"convertToInteractive('df-0d30408f-9be7-47ea-bf8b-169d5f631c12')\"\n",
              "              title=\"Convert this dataframe to an interactive table.\"\n",
              "              style=\"display:none;\">\n",
              "        \n",
              "  <svg xmlns=\"http://www.w3.org/2000/svg\" height=\"24px\"viewBox=\"0 0 24 24\"\n",
              "       width=\"24px\">\n",
              "    <path d=\"M0 0h24v24H0V0z\" fill=\"none\"/>\n",
              "    <path d=\"M18.56 5.44l.94 2.06.94-2.06 2.06-.94-2.06-.94-.94-2.06-.94 2.06-2.06.94zm-11 1L8.5 8.5l.94-2.06 2.06-.94-2.06-.94L8.5 2.5l-.94 2.06-2.06.94zm10 10l.94 2.06.94-2.06 2.06-.94-2.06-.94-.94-2.06-.94 2.06-2.06.94z\"/><path d=\"M17.41 7.96l-1.37-1.37c-.4-.4-.92-.59-1.43-.59-.52 0-1.04.2-1.43.59L10.3 9.45l-7.72 7.72c-.78.78-.78 2.05 0 2.83L4 21.41c.39.39.9.59 1.41.59.51 0 1.02-.2 1.41-.59l7.78-7.78 2.81-2.81c.8-.78.8-2.07 0-2.86zM5.41 20L4 18.59l7.72-7.72 1.47 1.35L5.41 20z\"/>\n",
              "  </svg>\n",
              "      </button>\n",
              "      \n",
              "  <style>\n",
              "    .colab-df-container {\n",
              "      display:flex;\n",
              "      flex-wrap:wrap;\n",
              "      gap: 12px;\n",
              "    }\n",
              "\n",
              "    .colab-df-convert {\n",
              "      background-color: #E8F0FE;\n",
              "      border: none;\n",
              "      border-radius: 50%;\n",
              "      cursor: pointer;\n",
              "      display: none;\n",
              "      fill: #1967D2;\n",
              "      height: 32px;\n",
              "      padding: 0 0 0 0;\n",
              "      width: 32px;\n",
              "    }\n",
              "\n",
              "    .colab-df-convert:hover {\n",
              "      background-color: #E2EBFA;\n",
              "      box-shadow: 0px 1px 2px rgba(60, 64, 67, 0.3), 0px 1px 3px 1px rgba(60, 64, 67, 0.15);\n",
              "      fill: #174EA6;\n",
              "    }\n",
              "\n",
              "    [theme=dark] .colab-df-convert {\n",
              "      background-color: #3B4455;\n",
              "      fill: #D2E3FC;\n",
              "    }\n",
              "\n",
              "    [theme=dark] .colab-df-convert:hover {\n",
              "      background-color: #434B5C;\n",
              "      box-shadow: 0px 1px 3px 1px rgba(0, 0, 0, 0.15);\n",
              "      filter: drop-shadow(0px 1px 2px rgba(0, 0, 0, 0.3));\n",
              "      fill: #FFFFFF;\n",
              "    }\n",
              "  </style>\n",
              "\n",
              "      <script>\n",
              "        const buttonEl =\n",
              "          document.querySelector('#df-0d30408f-9be7-47ea-bf8b-169d5f631c12 button.colab-df-convert');\n",
              "        buttonEl.style.display =\n",
              "          google.colab.kernel.accessAllowed ? 'block' : 'none';\n",
              "\n",
              "        async function convertToInteractive(key) {\n",
              "          const element = document.querySelector('#df-0d30408f-9be7-47ea-bf8b-169d5f631c12');\n",
              "          const dataTable =\n",
              "            await google.colab.kernel.invokeFunction('convertToInteractive',\n",
              "                                                     [key], {});\n",
              "          if (!dataTable) return;\n",
              "\n",
              "          const docLinkHtml = 'Like what you see? Visit the ' +\n",
              "            '<a target=\"_blank\" href=https://colab.research.google.com/notebooks/data_table.ipynb>data table notebook</a>'\n",
              "            + ' to learn more about interactive tables.';\n",
              "          element.innerHTML = '';\n",
              "          dataTable['output_type'] = 'display_data';\n",
              "          await google.colab.output.renderOutput(dataTable, element);\n",
              "          const docLink = document.createElement('div');\n",
              "          docLink.innerHTML = docLinkHtml;\n",
              "          element.appendChild(docLink);\n",
              "        }\n",
              "      </script>\n",
              "    </div>\n",
              "  </div>\n",
              "  "
            ]
          },
          "metadata": {},
          "execution_count": 2
        }
      ],
      "source": [
        "%matplotlib inline\n",
        "import matplotlib.pyplot as plt\n",
        "from sklearn.datasets import make_classification\n",
        "import pandas as pd\n",
        "import numpy as np\n",
        "from sklearn.utils import shuffle\n",
        "class1 = pd.read_csv(\"Class1.txt\")\n",
        "class2 = pd.read_csv(\"Class2.txt\")\n",
        "print(class1.shape)\n",
        "print(class2.shape)\n",
        "class1.head()"
      ]
    },
    {
      "cell_type": "code",
      "source": [
        "# add lables to the data. .insert() will directly modify the dataframe\n",
        "posLabel=1          # positive class Label\n",
        "negLabel=-1         # negative class label\n",
        "T=(posLabel+negLabel)/2 # This is the threshold to classify positive vs. negative\n",
        "\n",
        "class1.insert(class1.shape[1],'label',posLabel)\n",
        "class2.insert(class2.shape[1],'label',negLabel)\n",
        "# combine both datasets as one\n",
        "class12 = class1.append(class2)\n",
        "print(class12.shape)\n",
        "class12.head()"
      ],
      "metadata": {
        "colab": {
          "base_uri": "https://localhost:8080/",
          "height": 223
        },
        "id": "9_GECziOf54W",
        "outputId": "9caab6bd-2b03-4e4c-93bf-6e202f8eadfb"
      },
      "execution_count": 3,
      "outputs": [
        {
          "output_type": "stream",
          "name": "stdout",
          "text": [
            "(200, 3)\n"
          ]
        },
        {
          "output_type": "execute_result",
          "data": {
            "text/plain": [
              "   weight  height  label\n",
              "0   0.132   0.757      1\n",
              "1   0.722   0.888      1\n",
              "2   0.095   0.804      1\n",
              "3   0.633   0.530      1\n",
              "4   0.472   0.701      1"
            ],
            "text/html": [
              "\n",
              "  <div id=\"df-0d56bc3b-12f1-497a-8474-f120bb1cc792\">\n",
              "    <div class=\"colab-df-container\">\n",
              "      <div>\n",
              "<style scoped>\n",
              "    .dataframe tbody tr th:only-of-type {\n",
              "        vertical-align: middle;\n",
              "    }\n",
              "\n",
              "    .dataframe tbody tr th {\n",
              "        vertical-align: top;\n",
              "    }\n",
              "\n",
              "    .dataframe thead th {\n",
              "        text-align: right;\n",
              "    }\n",
              "</style>\n",
              "<table border=\"1\" class=\"dataframe\">\n",
              "  <thead>\n",
              "    <tr style=\"text-align: right;\">\n",
              "      <th></th>\n",
              "      <th>weight</th>\n",
              "      <th>height</th>\n",
              "      <th>label</th>\n",
              "    </tr>\n",
              "  </thead>\n",
              "  <tbody>\n",
              "    <tr>\n",
              "      <th>0</th>\n",
              "      <td>0.132</td>\n",
              "      <td>0.757</td>\n",
              "      <td>1</td>\n",
              "    </tr>\n",
              "    <tr>\n",
              "      <th>1</th>\n",
              "      <td>0.722</td>\n",
              "      <td>0.888</td>\n",
              "      <td>1</td>\n",
              "    </tr>\n",
              "    <tr>\n",
              "      <th>2</th>\n",
              "      <td>0.095</td>\n",
              "      <td>0.804</td>\n",
              "      <td>1</td>\n",
              "    </tr>\n",
              "    <tr>\n",
              "      <th>3</th>\n",
              "      <td>0.633</td>\n",
              "      <td>0.530</td>\n",
              "      <td>1</td>\n",
              "    </tr>\n",
              "    <tr>\n",
              "      <th>4</th>\n",
              "      <td>0.472</td>\n",
              "      <td>0.701</td>\n",
              "      <td>1</td>\n",
              "    </tr>\n",
              "  </tbody>\n",
              "</table>\n",
              "</div>\n",
              "      <button class=\"colab-df-convert\" onclick=\"convertToInteractive('df-0d56bc3b-12f1-497a-8474-f120bb1cc792')\"\n",
              "              title=\"Convert this dataframe to an interactive table.\"\n",
              "              style=\"display:none;\">\n",
              "        \n",
              "  <svg xmlns=\"http://www.w3.org/2000/svg\" height=\"24px\"viewBox=\"0 0 24 24\"\n",
              "       width=\"24px\">\n",
              "    <path d=\"M0 0h24v24H0V0z\" fill=\"none\"/>\n",
              "    <path d=\"M18.56 5.44l.94 2.06.94-2.06 2.06-.94-2.06-.94-.94-2.06-.94 2.06-2.06.94zm-11 1L8.5 8.5l.94-2.06 2.06-.94-2.06-.94L8.5 2.5l-.94 2.06-2.06.94zm10 10l.94 2.06.94-2.06 2.06-.94-2.06-.94-.94-2.06-.94 2.06-2.06.94z\"/><path d=\"M17.41 7.96l-1.37-1.37c-.4-.4-.92-.59-1.43-.59-.52 0-1.04.2-1.43.59L10.3 9.45l-7.72 7.72c-.78.78-.78 2.05 0 2.83L4 21.41c.39.39.9.59 1.41.59.51 0 1.02-.2 1.41-.59l7.78-7.78 2.81-2.81c.8-.78.8-2.07 0-2.86zM5.41 20L4 18.59l7.72-7.72 1.47 1.35L5.41 20z\"/>\n",
              "  </svg>\n",
              "      </button>\n",
              "      \n",
              "  <style>\n",
              "    .colab-df-container {\n",
              "      display:flex;\n",
              "      flex-wrap:wrap;\n",
              "      gap: 12px;\n",
              "    }\n",
              "\n",
              "    .colab-df-convert {\n",
              "      background-color: #E8F0FE;\n",
              "      border: none;\n",
              "      border-radius: 50%;\n",
              "      cursor: pointer;\n",
              "      display: none;\n",
              "      fill: #1967D2;\n",
              "      height: 32px;\n",
              "      padding: 0 0 0 0;\n",
              "      width: 32px;\n",
              "    }\n",
              "\n",
              "    .colab-df-convert:hover {\n",
              "      background-color: #E2EBFA;\n",
              "      box-shadow: 0px 1px 2px rgba(60, 64, 67, 0.3), 0px 1px 3px 1px rgba(60, 64, 67, 0.15);\n",
              "      fill: #174EA6;\n",
              "    }\n",
              "\n",
              "    [theme=dark] .colab-df-convert {\n",
              "      background-color: #3B4455;\n",
              "      fill: #D2E3FC;\n",
              "    }\n",
              "\n",
              "    [theme=dark] .colab-df-convert:hover {\n",
              "      background-color: #434B5C;\n",
              "      box-shadow: 0px 1px 3px 1px rgba(0, 0, 0, 0.15);\n",
              "      filter: drop-shadow(0px 1px 2px rgba(0, 0, 0, 0.3));\n",
              "      fill: #FFFFFF;\n",
              "    }\n",
              "  </style>\n",
              "\n",
              "      <script>\n",
              "        const buttonEl =\n",
              "          document.querySelector('#df-0d56bc3b-12f1-497a-8474-f120bb1cc792 button.colab-df-convert');\n",
              "        buttonEl.style.display =\n",
              "          google.colab.kernel.accessAllowed ? 'block' : 'none';\n",
              "\n",
              "        async function convertToInteractive(key) {\n",
              "          const element = document.querySelector('#df-0d56bc3b-12f1-497a-8474-f120bb1cc792');\n",
              "          const dataTable =\n",
              "            await google.colab.kernel.invokeFunction('convertToInteractive',\n",
              "                                                     [key], {});\n",
              "          if (!dataTable) return;\n",
              "\n",
              "          const docLinkHtml = 'Like what you see? Visit the ' +\n",
              "            '<a target=\"_blank\" href=https://colab.research.google.com/notebooks/data_table.ipynb>data table notebook</a>'\n",
              "            + ' to learn more about interactive tables.';\n",
              "          element.innerHTML = '';\n",
              "          dataTable['output_type'] = 'display_data';\n",
              "          await google.colab.output.renderOutput(dataTable, element);\n",
              "          const docLink = document.createElement('div');\n",
              "          docLink.innerHTML = docLinkHtml;\n",
              "          element.appendChild(docLink);\n",
              "        }\n",
              "      </script>\n",
              "    </div>\n",
              "  </div>\n",
              "  "
            ]
          },
          "metadata": {},
          "execution_count": 3
        }
      ]
    },
    {
      "cell_type": "code",
      "source": [
        "colors=[\"red\",\"black\",\"blue\",\"green\"]\n",
        "plt.scatter(class12.iloc[:,0],class12.iloc[:,1],color=[colors[idx+1] for idx in class12.iloc[:,2]])\n",
        "# The dataset is not a linearly searable problem.\n",
        "# So we will use gradient descent learning to learn decision boundary"
      ],
      "metadata": {
        "colab": {
          "base_uri": "https://localhost:8080/",
          "height": 282
        },
        "id": "bht-Gjgjf-x1",
        "outputId": "cc024422-a05a-4d35-9482-e22540906024"
      },
      "execution_count": 4,
      "outputs": [
        {
          "output_type": "execute_result",
          "data": {
            "text/plain": [
              "<matplotlib.collections.PathCollection at 0x7f569013cd10>"
            ]
          },
          "metadata": {},
          "execution_count": 4
        },
        {
          "output_type": "display_data",
          "data": {
            "text/plain": [
              "<Figure size 432x288 with 1 Axes>"
            ],
            "image/png": "[encoded data removed]"
          },
          "metadata": {
            "needs_background": "light"
          }
        }
      ]
    },
    {
      "cell_type": "code",
      "source": [
        "# partitioning the dataset into training vs. test sets\n",
        "# shuffle the data\n",
        "class12_rand=shuffle(class12)\n",
        "features,labels=class12_rand.iloc[:,0:-1],class12_rand.loc[:,['label']]\n",
        "from sklearn.model_selection import train_test_split\n",
        "\n",
        "X_train, X_test, y_train, y_test = train_test_split(features, labels, test_size=.2, random_state=42)\n",
        "\n",
        "# covert data from dataframe into matrix format for arithemetic calculation\n",
        "X_train_m=np.asmatrix(X_train, dtype = 'float64')\n",
        "X_test_m=np.asmatrix(X_test, dtype = 'float64')\n",
        "y_train_m=np.asmatrix(y_train, dtype = 'float64')\n",
        "y_test_m=np.asmatrix(y_test, dtype = 'float64')"
      ],
      "metadata": {
        "id": "tVTyG_X9grMD"
      },
      "execution_count": 18,
      "outputs": []
    },
    {
      "cell_type": "code",
      "source": [
        "def GradientDescentLearning(features, labels, max_iter, learning_rate, err_threshold, test_features, test_labels):\n",
        "    \n",
        "    # random initialize weight values between rage: [-0.5,0.5]\n",
        "    w = np.random.rand(features.shape[1]+1)-0.5\n",
        "    \n",
        "    totalSquaredErr_ = []\n",
        "    totalSquaredErrTest_ = []\n",
        "    accuracy_= []\n",
        "    epoch=0\n",
        "    err=9999.0\n",
        "    while (epoch<max_iter) and (err>err_threshold):\n",
        "        misclassified = 0\n",
        "        deltaw=[0]*(features.shape[1]+1)\n",
        "        for i, x in enumerate(features):\n",
        "            x = np.insert(x,0,1)\n",
        "\n",
        "            v = np.dot(w, x.transpose())\n",
        "            \n",
        "            diff = learning_rate*(labels[i] - v)\n",
        "            deltaw=deltaw+diff*x\n",
        "        \n",
        "        #update weights\n",
        "        #print(deltaw)\n",
        "        w=w+deltaw\n",
        "        \n",
        "        # now calculate training error using new weights\n",
        "        this_err=0\n",
        "        for i, x in enumerate(features):\n",
        "            x = np.insert(x,0,1)\n",
        "            v = np.dot(w, x.transpose())\n",
        "            this_err=this_err+(labels[i] - v)*(labels[i] - v)\n",
        "        this_err=np.ndarray.item(this_err) \n",
        "        this_err=this_err/2.0\n",
        "        #mean squared error\n",
        "        err=this_err/features.shape[0]        \n",
        "        totalSquaredErr_.append(err)\n",
        "        \n",
        "        # now calculate test error using new weights\n",
        "        this_err=0\n",
        "        for i, x in enumerate(test_features):\n",
        "            x = np.insert(x,0,1)\n",
        "            v = np.dot(w, x.transpose())\n",
        "            this_err=this_err+(test_labels[i] - v)*(test_labels[i] - v)\n",
        "        this_err=np.ndarray.item(this_err) \n",
        "        this_err=this_err/2.0\n",
        "        totalSquaredErrTest_.append(this_err/test_features.shape[0])\n",
        "        # now calculate test classification accuracy\n",
        "        this_err=0\n",
        "        for i, x in enumerate(test_features):\n",
        "            x = np.insert(x,0,1)\n",
        "            v = np.dot(w, x.transpose())\n",
        "            if(((v-T)>=0 and test_labels[i]==negLabel) or ((v-T)<0 and test_labels[i]==posLabel)):\n",
        "                this_err=this_err+1\n",
        "        this_err=float(this_err) \n",
        "        this_err=this_err/test_features.shape[0]\n",
        "        accuracy_.append(1-this_err)        \n",
        "        #next epoch\n",
        "        epoch=epoch+1\n",
        "    return (w, totalSquaredErr_, totalSquaredErrTest_, accuracy_)"
      ],
      "metadata": {
        "id": "-IZv4AjbgByq"
      },
      "execution_count": 8,
      "outputs": []
    },
    {
      "cell_type": "code",
      "source": [
        "# we use maximum 500 iterations. Because gradient descent leanring weight updating is accumulated across all \n",
        "# training instances. We use set learning rate as inverse of # of training instances, to avoid weight values\n",
        "# w continuosly increasing. \n",
        "max_iter = 2000\n",
        "eta=1.0/X_train.shape[0]\n",
        "#eta=0.02\n",
        "print(\"Learning rate is: %.5f\" % eta)\n",
        "err_threshold=0.01\n",
        "w, misclassified, testError, accuracy= GradientDescentLearning(X_train_m, y_train_m, max_iter, eta, err_threshold,X_test_m,y_test_m)\n",
        "print(misclassified[0:10])\n",
        "print(testError[0:10])\n",
        "print(accuracy[0:10])"
      ],
      "metadata": {
        "colab": {
          "base_uri": "https://localhost:8080/"
        },
        "id": "HSIM8DW1gI3O",
        "outputId": "ffb0df88-abbe-4f14-ef63-aa7d16a21919"
      },
      "execution_count": 19,
      "outputs": [
        {
          "output_type": "stream",
          "name": "stdout",
          "text": [
            "Learning rate is: 0.00625\n",
            "[0.38387245003729153, 0.3656931308730531, 0.35127852825981154, 0.33942892367597227, 0.3295508508180022, 0.32127312086011534, 0.31432301229558807, 0.30848338802021275, 0.30357546879886643, 0.2994501419197418]\n",
            "[0.4261739660101889, 0.3737620203103996, 0.3762493186123651, 0.3538332809221675, 0.34849450480779126, 0.33673484363580114, 0.33082199201320994, 0.32369197376776226, 0.31887595355450005, 0.3141839055363169]\n",
            "[0.65, 0.95, 0.9, 0.95, 0.95, 0.95, 0.95, 0.95, 0.95, 0.95]\n"
          ]
        }
      ]
    },
    {
      "cell_type": "code",
      "source": [
        "epochs = np.arange(1, max_iter+1)\n",
        "plt.plot(epochs, misclassified, label=\"Train Error\")\n",
        "plt.plot(epochs, testError, label=\"Test Error\")\n",
        "#plt.plot(epochs, accuracy)\n",
        "plt.xlabel('Mean Classification Errors')\n",
        "plt.ylabel('misclassified')\n",
        "plt.legend()\n",
        "plt.show()"
      ],
      "metadata": {
        "colab": {
          "base_uri": "https://localhost:8080/",
          "height": 279
        },
        "id": "AaLrCr0Vg9CG",
        "outputId": "93dfcb4a-5ee6-48ea-be43-31d236ee0eb1"
      },
      "execution_count": 23,
      "outputs": [
        {
          "output_type": "display_data",
          "data": {
            "text/plain": [
              "<Figure size 432x288 with 1 Axes>"
            ],
            "image/png": "[encoded data removed]"
          },
          "metadata": {
            "needs_background": "light"
          }
        }
      ]
    },
    {
      "cell_type": "code",
      "source": [
        "# Now we create a plot to show learned decision boundaries (find slope and intercept)\n",
        "# The decision boundary line is W2.X2 + W1.X1+ W0=T (where T is threshold, \n",
        "# which is the middle point between positive and negative class)\n",
        "# If positive is labled as 1, and negative is labled as -1. The middle point T\n",
        "# So we have W2.X2 + W1.X1+ W0=T\n",
        "# The line is X2=-(W1/W2).X1 + (T-W0)/W2\n",
        "# Therefore the slope is -(W1/W2), and the y-intercept is - W0/W2\n",
        "print(w)\n",
        "slope=w[0,1]/w[0,2]*(-1)\n",
        "intercept=(T-w[0,0])/w[0,2]\n",
        "print(slope,intercept)"
      ],
      "metadata": {
        "colab": {
          "base_uri": "https://localhost:8080/"
        },
        "id": "WCj3ZQJxg9XC",
        "outputId": "50b07b7a-9f67-4348-f0d7-160b58bbfab6"
      },
      "execution_count": 24,
      "outputs": [
        {
          "output_type": "stream",
          "name": "stdout",
          "text": [
            "[[-0.22607298 -1.57509632  1.67012089]]\n",
            "0.9431031831570705 0.13536324140543793\n"
          ]
        }
      ]
    },
    {
      "cell_type": "code",
      "source": [
        "xvalues=class12.iloc[:,0]\n",
        "yvalues=xvalues*slope+intercept\n",
        "plt.scatter(class12.iloc[:,0],class12.iloc[:,1],color=[colors[idx+1] for idx in class12.iloc[:,2]])\n",
        "plt.plot(xvalues,yvalues,\"g-\")"
      ],
      "metadata": {
        "colab": {
          "base_uri": "https://localhost:8080/",
          "height": 282
        },
        "id": "iA9ck9HDg9qX",
        "outputId": "ebca64b5-8463-4307-a834-350d8e7db77f"
      },
      "execution_count": 25,
      "outputs": [
        {
          "output_type": "execute_result",
          "data": {
            "text/plain": [
              "[<matplotlib.lines.Line2D at 0x7f568e75a1d0>]"
            ]
          },
          "metadata": {},
          "execution_count": 25
        },
        {
          "output_type": "display_data",
          "data": {
            "text/plain": [
              "<Figure size 432x288 with 1 Axes>"
            ],
            "image/png": "[encoded data removed]"
          },
          "metadata": {
            "needs_background": "light"
          }
        }
      ]
    },
    {
      "cell_type": "code",
      "source": [
        "# now we implement Delta rule leanring. Which use a signle instance to update the network weight value\n",
        "import random\n",
        "def Delta(features, labels, max_iter, learning_rate, err_threshold):\n",
        "    \n",
        "    # random initialize weight values between rage: [-0.5,0.5]\n",
        "    w = np.random.rand(features.shape[1]+1)-0.5\n",
        "    \n",
        "    totalSquaredErr_ = []\n",
        "    epoch=0\n",
        "    err=9999.0\n",
        "    while (epoch<max_iter) and (err>err_threshold):\n",
        "        misclassified = 0\n",
        "        deltaw=[0]*(features.shape[1]+1)\n",
        "        # random select an instance\n",
        "        i=random.randrange(features.shape[0])\n",
        "        x=features[i,]\n",
        "        x = np.insert(x,0,1)\n",
        "\n",
        "        v = np.dot(w, x.transpose())\n",
        "            \n",
        "        diff = learning_rate*(labels[i] - v)\n",
        "        deltaw=deltaw+diff*x\n",
        "        \n",
        "        #update weights\n",
        "        #print(deltaw)\n",
        "        w=w+deltaw\n",
        "        \n",
        "        # now calculate error using new weights\n",
        "        this_err=0\n",
        "        for i, x in enumerate(features):\n",
        "            x = np.insert(x,0,1)\n",
        "            v = np.dot(w, x.transpose())\n",
        "            this_err=this_err+(labels[i] - v)*(labels[i] - v)\n",
        "        this_err=np.asscalar(this_err)\n",
        "        this_err=this_err/2.0\n",
        "        totalSquaredErr_.append(this_err)\n",
        "        #mean squared error\n",
        "        err=this_err/features.shape[0]\n",
        "        epoch=epoch+1\n",
        "    return (w, totalSquaredErr_)"
      ],
      "metadata": {
        "id": "OX_KBNlgiMPH"
      },
      "execution_count": 13,
      "outputs": []
    },
    {
      "cell_type": "code",
      "source": [
        "# we use maximum 500 iterations. Because delta rule only uses one instance to update, \n",
        "# we set learning rate to a small value\n",
        "max_iter = 2000\n",
        "eta=0.01\n",
        "err_threshold=0.01\n",
        "w, misclassified= Delta(X_train_m, y_train_m, max_iter, eta, err_threshold)\n",
        "print(misclassified[0:10])"
      ],
      "metadata": {
        "colab": {
          "base_uri": "https://localhost:8080/"
        },
        "id": "uE_eH7QKiMnQ",
        "outputId": "4041065b-0fcb-4aae-c753-f5bffee6b6af"
      },
      "execution_count": 29,
      "outputs": [
        {
          "output_type": "stream",
          "name": "stderr",
          "text": [
            "/usr/local/lib/python3.7/dist-packages/ipykernel_launcher.py:34: DeprecationWarning: np.asscalar(a) is deprecated since NumPy v1.16, use a.item() instead\n",
            "/usr/local/lib/python3.7/dist-packages/ipykernel_launcher.py:31: DeprecationWarning: np.asscalar(a) is deprecated since NumPy v1.16, use a.item() instead\n",
            "/usr/local/lib/python3.7/dist-packages/ipykernel_launcher.py:31: DeprecationWarning: np.asscalar(a) is deprecated since NumPy v1.16, use a.item() instead\n",
            "/usr/local/lib/python3.7/dist-packages/ipykernel_launcher.py:31: DeprecationWarning: np.asscalar(a) is deprecated since NumPy v1.16, use a.item() instead\n",
            "/usr/local/lib/python3.7/dist-packages/ipykernel_launcher.py:31: DeprecationWarning: np.asscalar(a) is deprecated since NumPy v1.16, use a.item() instead\n",
            "/usr/local/lib/python3.7/dist-packages/ipykernel_launcher.py:31: DeprecationWarning: np.asscalar(a) is deprecated since NumPy v1.16, use a.item() instead\n",
            "/usr/local/lib/python3.7/dist-packages/ipykernel_launcher.py:31: DeprecationWarning: np.asscalar(a) is deprecated since NumPy v1.16, use a.item() instead\n",
            "/usr/local/lib/python3.7/dist-packages/ipykernel_launcher.py:31: DeprecationWarning: np.asscalar(a) is deprecated since NumPy v1.16, use a.item() instead\n",
            "/usr/local/lib/python3.7/dist-packages/ipykernel_launcher.py:31: DeprecationWarning: np.asscalar(a) is deprecated since NumPy v1.16, use a.item() instead\n",
            "/usr/local/lib/python3.7/dist-packages/ipykernel_launcher.py:31: DeprecationWarning: np.asscalar(a) is deprecated since NumPy v1.16, use a.item() instead\n",
            "/usr/local/lib/python3.7/dist-packages/ipykernel_launcher.py:31: DeprecationWarning: np.asscalar(a) is deprecated since NumPy v1.16, use a.item() instead\n",
            "/usr/local/lib/python3.7/dist-packages/ipykernel_launcher.py:31: DeprecationWarning: np.asscalar(a) is deprecated since NumPy v1.16, use a.item() instead\n",
            "/usr/local/lib/python3.7/dist-packages/ipykernel_launcher.py:31: DeprecationWarning: np.asscalar(a) is deprecated since NumPy v1.16, use a.item() instead\n",
            "/usr/local/lib/python3.7/dist-packages/ipykernel_launcher.py:31: DeprecationWarning: np.asscalar(a) is deprecated since NumPy v1.16, use a.item() instead\n",
            "/usr/local/lib/python3.7/dist-packages/ipykernel_launcher.py:31: DeprecationWarning: np.asscalar(a) is deprecated since NumPy v1.16, use a.item() instead\n",
            "/usr/local/lib/python3.7/dist-packages/ipykernel_launcher.py:31: DeprecationWarning: np.asscalar(a) is deprecated since NumPy v1.16, use a.item() instead\n",
            "/usr/local/lib/python3.7/dist-packages/ipykernel_launcher.py:31: DeprecationWarning: np.asscalar(a) is deprecated since NumPy v1.16, use a.item() instead\n",
            "/usr/local/lib/python3.7/dist-packages/ipykernel_launcher.py:31: DeprecationWarning: np.asscalar(a) is deprecated since NumPy v1.16, use a.item() instead\n",
            "/usr/local/lib/python3.7/dist-packages/ipykernel_launcher.py:31: DeprecationWarning: np.asscalar(a) is deprecated since NumPy v1.16, use a.item() instead\n",
            "/usr/local/lib/python3.7/dist-packages/ipykernel_launcher.py:31: DeprecationWarning: np.asscalar(a) is deprecated since NumPy v1.16, use a.item() instead\n",
            "/usr/local/lib/python3.7/dist-packages/ipykernel_launcher.py:31: DeprecationWarning: np.asscalar(a) is deprecated since NumPy v1.16, use a.item() instead\n",
            "/usr/local/lib/python3.7/dist-packages/ipykernel_launcher.py:31: DeprecationWarning: np.asscalar(a) is deprecated since NumPy v1.16, use a.item() instead\n",
            "/usr/local/lib/python3.7/dist-packages/ipykernel_launcher.py:31: DeprecationWarning: np.asscalar(a) is deprecated since NumPy v1.16, use a.item() instead\n",
            "/usr/local/lib/python3.7/dist-packages/ipykernel_launcher.py:31: DeprecationWarning: np.asscalar(a) is deprecated since NumPy v1.16, use a.item() instead\n",
            "/usr/local/lib/python3.7/dist-packages/ipykernel_launcher.py:31: DeprecationWarning: np.asscalar(a) is deprecated since NumPy v1.16, use a.item() instead\n",
            "/usr/local/lib/python3.7/dist-packages/ipykernel_launcher.py:31: DeprecationWarning: np.asscalar(a) is deprecated since NumPy v1.16, use a.item() instead\n",
            "/usr/local/lib/python3.7/dist-packages/ipykernel_launcher.py:31: DeprecationWarning: np.asscalar(a) is deprecated since NumPy v1.16, use a.item() instead\n",
            "/usr/local/lib/python3.7/dist-packages/ipykernel_launcher.py:31: DeprecationWarning: np.asscalar(a) is deprecated since NumPy v1.16, use a.item() instead\n",
            "/usr/local/lib/python3.7/dist-packages/ipykernel_launcher.py:31: DeprecationWarning: np.asscalar(a) is deprecated since NumPy v1.16, use a.item() instead\n",
            "/usr/local/lib/python3.7/dist-packages/ipykernel_launcher.py:31: DeprecationWarning: np.asscalar(a) is deprecated since NumPy v1.16, use a.item() instead\n",
            "/usr/local/lib/python3.7/dist-packages/ipykernel_launcher.py:31: DeprecationWarning: np.asscalar(a) is deprecated since NumPy v1.16, use a.item() instead\n",
            "/usr/local/lib/python3.7/dist-packages/ipykernel_launcher.py:31: DeprecationWarning: np.asscalar(a) is deprecated since NumPy v1.16, use a.item() instead\n",
            "/usr/local/lib/python3.7/dist-packages/ipykernel_launcher.py:31: DeprecationWarning: np.asscalar(a) is deprecated since NumPy v1.16, use a.item() instead\n",
            "/usr/local/lib/python3.7/dist-packages/ipykernel_launcher.py:31: DeprecationWarning: np.asscalar(a) is deprecated since NumPy v1.16, use a.item() instead\n",
            "/usr/local/lib/python3.7/dist-packages/ipykernel_launcher.py:31: DeprecationWarning: np.asscalar(a) is deprecated since NumPy v1.16, use a.item() instead\n",
            "/usr/local/lib/python3.7/dist-packages/ipykernel_launcher.py:31: DeprecationWarning: np.asscalar(a) is deprecated since NumPy v1.16, use a.item() instead\n",
            "/usr/local/lib/python3.7/dist-packages/ipykernel_launcher.py:31: DeprecationWarning: np.asscalar(a) is deprecated since NumPy v1.16, use a.item() instead\n",
            "/usr/local/lib/python3.7/dist-packages/ipykernel_launcher.py:31: DeprecationWarning: np.asscalar(a) is deprecated since NumPy v1.16, use a.item() instead\n",
            "/usr/local/lib/python3.7/dist-packages/ipykernel_launcher.py:31: DeprecationWarning: np.asscalar(a) is deprecated since NumPy v1.16, use a.item() instead\n",
            "/usr/local/lib/python3.7/dist-packages/ipykernel_launcher.py:31: DeprecationWarning: np.asscalar(a) is deprecated since NumPy v1.16, use a.item() instead\n",
            "/usr/local/lib/python3.7/dist-packages/ipykernel_launcher.py:31: DeprecationWarning: np.asscalar(a) is deprecated since NumPy v1.16, use a.item() instead\n",
            "/usr/local/lib/python3.7/dist-packages/ipykernel_launcher.py:31: DeprecationWarning: np.asscalar(a) is deprecated since NumPy v1.16, use a.item() instead\n"
          ]
        },
        {
          "output_type": "stream",
          "name": "stdout",
          "text": [
            "[84.19524867342511, 83.73440148006362, 83.45917340021899, 83.21501057485278, 83.02470400125598, 82.7713655495974, 82.72684776892727, 82.66865379880447, 82.65123079610092, 82.52107389740152]\n"
          ]
        }
      ]
    },
    {
      "cell_type": "code",
      "source": [
        "epochs = np.arange(1, max_iter+1)\n",
        "plt.plot(epochs, misclassified)\n",
        "plt.xlabel('iterations')\n",
        "plt.ylabel('Squared Errors')\n",
        "#plt.text(10,10,\"Perceptron learning rule convergence\")\n",
        "plt.show()"
      ],
      "metadata": {
        "colab": {
          "base_uri": "https://localhost:8080/",
          "height": 279
        },
        "id": "8zKyf271iM02",
        "outputId": "0c3e5c49-d367-4068-8c9f-840b3e132e4b"
      },
      "execution_count": 31,
      "outputs": [
        {
          "output_type": "display_data",
          "data": {
            "text/plain": [
              "<Figure size 432x288 with 1 Axes>"
            ],
            "image/png": "[encoded data removed]"
          },
          "metadata": {
            "needs_background": "light"
          }
        }
      ]
    },
    {
      "cell_type": "code",
      "source": [
        "# Now we create a plot to show learned decision boundaries (find slope and intercept)\n",
        "print(w)\n",
        "slope=w[0,1]/w[0,2]*(-1)\n",
        "intercept=(T-w[0,0])/w[0,2]\n",
        "print(slope,intercept)"
      ],
      "metadata": {
        "colab": {
          "base_uri": "https://localhost:8080/"
        },
        "id": "Dh5QjPd2iNCN",
        "outputId": "93dc34d5-098e-4086-af08-fae8120a2288"
      },
      "execution_count": 16,
      "outputs": [
        {
          "output_type": "stream",
          "name": "stdout",
          "text": [
            "[[-0.63807158 -1.21075683  1.44898829]]\n",
            "0.8355877230735045 0.44035661443195384\n"
          ]
        }
      ]
    },
    {
      "cell_type": "code",
      "source": [
        "xvalues=class12.iloc[:,0]\n",
        "yvalues=xvalues*slope+intercept\n",
        "plt.scatter(class12.iloc[:,0],class12.iloc[:,1],color=[colors[idx+1] for idx in class12.iloc[:,2]])\n",
        "plt.plot(xvalues,yvalues,\"g-\")"
      ],
      "metadata": {
        "colab": {
          "base_uri": "https://localhost:8080/",
          "height": 282
        },
        "id": "t0_on1BHiNTz",
        "outputId": "84ef2842-9534-46a2-d854-0f6a22527666"
      },
      "execution_count": 32,
      "outputs": [
        {
          "output_type": "execute_result",
          "data": {
            "text/plain": [
              "[<matplotlib.lines.Line2D at 0x7f568e8c7d50>]"
            ]
          },
          "metadata": {},
          "execution_count": 32
        },
        {
          "output_type": "display_data",
          "data": {
            "text/plain": [
              "<Figure size 432x288 with 1 Axes>"
            ],
            "image/png": "[encoded data removed]"
          },
          "metadata": {
            "needs_background": "light"
          }
        }
      ]
    },
    {
      "cell_type": "code",
      "source": [],
      "metadata": {
        "id": "Nw-XPeaTijlR"
      },
      "execution_count": null,
      "outputs": []
    }
  ]
}